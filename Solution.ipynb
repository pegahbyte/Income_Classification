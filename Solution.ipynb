{
 "cells": [
  {
   "cell_type": "code",
   "execution_count": 197,
   "metadata": {},
   "outputs": [],
   "source": [
    "import pandas as pd\n",
    "import numpy as np\n",
    "import statistics\n",
    "\n",
    "# Visualizations\n",
    "import seaborn as sns\n",
    "import matplotlib.pyplot as plt\n",
    "\n",
    "# Pre-Processing\n",
    "from sklearn.model_selection import train_test_split\n",
    "from sklearn.preprocessing import StandardScaler\n",
    "\n",
    "# Models\n",
    "from sklearn.linear_model import LogisticRegression\n",
    "from sklearn.naive_bayes import GaussianNB\n",
    "from sklearn.linear_model import RidgeClassifierCV\n",
    "from sklearn.neural_network import MLPClassifier\n",
    "from sklearn import ensemble\n",
    "\n",
    "# Linear Regression\n",
    "from sklearn import  linear_model\n",
    "from sklearn.linear_model import LinearRegression\n",
    "import statsmodels.api as sm\n",
    "from scipy import stats\n",
    "\n",
    "# Evaluation\n",
    "from sklearn.metrics import confusion_matrix"
   ]
  },
  {
   "cell_type": "markdown",
   "metadata": {},
   "source": [
    "## 1. Data Pre-Processing/Cleaning"
   ]
  },
  {
   "cell_type": "markdown",
   "metadata": {},
   "source": [
    "#### Data Reading and Overview"
   ]
  },
  {
   "cell_type": "code",
   "execution_count": 112,
   "metadata": {},
   "outputs": [
    {
     "data": {
      "text/html": [
       "<div>\n",
       "<style scoped>\n",
       "    .dataframe tbody tr th:only-of-type {\n",
       "        vertical-align: middle;\n",
       "    }\n",
       "\n",
       "    .dataframe tbody tr th {\n",
       "        vertical-align: top;\n",
       "    }\n",
       "\n",
       "    .dataframe thead th {\n",
       "        text-align: right;\n",
       "    }\n",
       "</style>\n",
       "<table border=\"1\" class=\"dataframe\">\n",
       "  <thead>\n",
       "    <tr style=\"text-align: right;\">\n",
       "      <th></th>\n",
       "      <th>age</th>\n",
       "      <th>workclass</th>\n",
       "      <th>fnlwgt</th>\n",
       "      <th>education</th>\n",
       "      <th>education_num</th>\n",
       "      <th>marital_status</th>\n",
       "      <th>occupation</th>\n",
       "      <th>relationship</th>\n",
       "      <th>race</th>\n",
       "      <th>sex</th>\n",
       "      <th>capital_gain</th>\n",
       "      <th>capital_loss</th>\n",
       "      <th>hours_per_week</th>\n",
       "      <th>native_country</th>\n",
       "      <th>income</th>\n",
       "    </tr>\n",
       "  </thead>\n",
       "  <tbody>\n",
       "    <tr>\n",
       "      <th>0</th>\n",
       "      <td>39</td>\n",
       "      <td>State-gov</td>\n",
       "      <td>77516</td>\n",
       "      <td>Bachelors</td>\n",
       "      <td>13</td>\n",
       "      <td>Never-married</td>\n",
       "      <td>Adm-clerical</td>\n",
       "      <td>Not-in-family</td>\n",
       "      <td>White</td>\n",
       "      <td>Male</td>\n",
       "      <td>2174</td>\n",
       "      <td>0</td>\n",
       "      <td>40</td>\n",
       "      <td>United-States</td>\n",
       "      <td>&lt;=50K</td>\n",
       "    </tr>\n",
       "    <tr>\n",
       "      <th>1</th>\n",
       "      <td>50</td>\n",
       "      <td>Self-emp-not-inc</td>\n",
       "      <td>83311</td>\n",
       "      <td>Bachelors</td>\n",
       "      <td>13</td>\n",
       "      <td>Married-civ-spouse</td>\n",
       "      <td>Exec-managerial</td>\n",
       "      <td>Husband</td>\n",
       "      <td>White</td>\n",
       "      <td>Male</td>\n",
       "      <td>0</td>\n",
       "      <td>0</td>\n",
       "      <td>13</td>\n",
       "      <td>United-States</td>\n",
       "      <td>&lt;=50K</td>\n",
       "    </tr>\n",
       "    <tr>\n",
       "      <th>2</th>\n",
       "      <td>38</td>\n",
       "      <td>Private</td>\n",
       "      <td>215646</td>\n",
       "      <td>HS-grad</td>\n",
       "      <td>9</td>\n",
       "      <td>Divorced</td>\n",
       "      <td>Handlers-cleaners</td>\n",
       "      <td>Not-in-family</td>\n",
       "      <td>White</td>\n",
       "      <td>Male</td>\n",
       "      <td>0</td>\n",
       "      <td>0</td>\n",
       "      <td>40</td>\n",
       "      <td>United-States</td>\n",
       "      <td>&lt;=50K</td>\n",
       "    </tr>\n",
       "    <tr>\n",
       "      <th>3</th>\n",
       "      <td>53</td>\n",
       "      <td>Private</td>\n",
       "      <td>234721</td>\n",
       "      <td>11th</td>\n",
       "      <td>7</td>\n",
       "      <td>Married-civ-spouse</td>\n",
       "      <td>Handlers-cleaners</td>\n",
       "      <td>Husband</td>\n",
       "      <td>Black</td>\n",
       "      <td>Male</td>\n",
       "      <td>0</td>\n",
       "      <td>0</td>\n",
       "      <td>40</td>\n",
       "      <td>United-States</td>\n",
       "      <td>&lt;=50K</td>\n",
       "    </tr>\n",
       "    <tr>\n",
       "      <th>4</th>\n",
       "      <td>28</td>\n",
       "      <td>Private</td>\n",
       "      <td>338409</td>\n",
       "      <td>Bachelors</td>\n",
       "      <td>13</td>\n",
       "      <td>Married-civ-spouse</td>\n",
       "      <td>Prof-specialty</td>\n",
       "      <td>Wife</td>\n",
       "      <td>Black</td>\n",
       "      <td>Female</td>\n",
       "      <td>0</td>\n",
       "      <td>0</td>\n",
       "      <td>40</td>\n",
       "      <td>Cuba</td>\n",
       "      <td>&lt;=50K</td>\n",
       "    </tr>\n",
       "    <tr>\n",
       "      <th>5</th>\n",
       "      <td>37</td>\n",
       "      <td>Private</td>\n",
       "      <td>284582</td>\n",
       "      <td>Masters</td>\n",
       "      <td>14</td>\n",
       "      <td>Married-civ-spouse</td>\n",
       "      <td>Exec-managerial</td>\n",
       "      <td>Wife</td>\n",
       "      <td>White</td>\n",
       "      <td>Female</td>\n",
       "      <td>0</td>\n",
       "      <td>0</td>\n",
       "      <td>40</td>\n",
       "      <td>United-States</td>\n",
       "      <td>&lt;=50K</td>\n",
       "    </tr>\n",
       "    <tr>\n",
       "      <th>6</th>\n",
       "      <td>49</td>\n",
       "      <td>Private</td>\n",
       "      <td>160187</td>\n",
       "      <td>9th</td>\n",
       "      <td>5</td>\n",
       "      <td>Married-spouse-absent</td>\n",
       "      <td>Other-service</td>\n",
       "      <td>Not-in-family</td>\n",
       "      <td>Black</td>\n",
       "      <td>Female</td>\n",
       "      <td>0</td>\n",
       "      <td>0</td>\n",
       "      <td>16</td>\n",
       "      <td>Jamaica</td>\n",
       "      <td>&lt;=50K</td>\n",
       "    </tr>\n",
       "    <tr>\n",
       "      <th>7</th>\n",
       "      <td>52</td>\n",
       "      <td>Self-emp-not-inc</td>\n",
       "      <td>209642</td>\n",
       "      <td>HS-grad</td>\n",
       "      <td>9</td>\n",
       "      <td>Married-civ-spouse</td>\n",
       "      <td>Exec-managerial</td>\n",
       "      <td>Husband</td>\n",
       "      <td>White</td>\n",
       "      <td>Male</td>\n",
       "      <td>0</td>\n",
       "      <td>0</td>\n",
       "      <td>45</td>\n",
       "      <td>United-States</td>\n",
       "      <td>&gt;50K</td>\n",
       "    </tr>\n",
       "    <tr>\n",
       "      <th>8</th>\n",
       "      <td>31</td>\n",
       "      <td>Private</td>\n",
       "      <td>45781</td>\n",
       "      <td>Masters</td>\n",
       "      <td>14</td>\n",
       "      <td>Never-married</td>\n",
       "      <td>Prof-specialty</td>\n",
       "      <td>Not-in-family</td>\n",
       "      <td>White</td>\n",
       "      <td>Female</td>\n",
       "      <td>14084</td>\n",
       "      <td>0</td>\n",
       "      <td>50</td>\n",
       "      <td>United-States</td>\n",
       "      <td>&gt;50K</td>\n",
       "    </tr>\n",
       "    <tr>\n",
       "      <th>9</th>\n",
       "      <td>42</td>\n",
       "      <td>Private</td>\n",
       "      <td>159449</td>\n",
       "      <td>Bachelors</td>\n",
       "      <td>13</td>\n",
       "      <td>Married-civ-spouse</td>\n",
       "      <td>Exec-managerial</td>\n",
       "      <td>Husband</td>\n",
       "      <td>White</td>\n",
       "      <td>Male</td>\n",
       "      <td>5178</td>\n",
       "      <td>0</td>\n",
       "      <td>40</td>\n",
       "      <td>United-States</td>\n",
       "      <td>&gt;50K</td>\n",
       "    </tr>\n",
       "  </tbody>\n",
       "</table>\n",
       "</div>"
      ],
      "text/plain": [
       "   age          workclass  fnlwgt   education  education_num  \\\n",
       "0   39          State-gov   77516   Bachelors             13   \n",
       "1   50   Self-emp-not-inc   83311   Bachelors             13   \n",
       "2   38            Private  215646     HS-grad              9   \n",
       "3   53            Private  234721        11th              7   \n",
       "4   28            Private  338409   Bachelors             13   \n",
       "5   37            Private  284582     Masters             14   \n",
       "6   49            Private  160187         9th              5   \n",
       "7   52   Self-emp-not-inc  209642     HS-grad              9   \n",
       "8   31            Private   45781     Masters             14   \n",
       "9   42            Private  159449   Bachelors             13   \n",
       "\n",
       "           marital_status          occupation    relationship    race  \\\n",
       "0           Never-married        Adm-clerical   Not-in-family   White   \n",
       "1      Married-civ-spouse     Exec-managerial         Husband   White   \n",
       "2                Divorced   Handlers-cleaners   Not-in-family   White   \n",
       "3      Married-civ-spouse   Handlers-cleaners         Husband   Black   \n",
       "4      Married-civ-spouse      Prof-specialty            Wife   Black   \n",
       "5      Married-civ-spouse     Exec-managerial            Wife   White   \n",
       "6   Married-spouse-absent       Other-service   Not-in-family   Black   \n",
       "7      Married-civ-spouse     Exec-managerial         Husband   White   \n",
       "8           Never-married      Prof-specialty   Not-in-family   White   \n",
       "9      Married-civ-spouse     Exec-managerial         Husband   White   \n",
       "\n",
       "       sex  capital_gain  capital_loss  hours_per_week  native_country  income  \n",
       "0     Male          2174             0              40   United-States   <=50K  \n",
       "1     Male             0             0              13   United-States   <=50K  \n",
       "2     Male             0             0              40   United-States   <=50K  \n",
       "3     Male             0             0              40   United-States   <=50K  \n",
       "4   Female             0             0              40            Cuba   <=50K  \n",
       "5   Female             0             0              40   United-States   <=50K  \n",
       "6   Female             0             0              16         Jamaica   <=50K  \n",
       "7     Male             0             0              45   United-States    >50K  \n",
       "8   Female         14084             0              50   United-States    >50K  \n",
       "9     Male          5178             0              40   United-States    >50K  "
      ]
     },
     "execution_count": 112,
     "metadata": {},
     "output_type": "execute_result"
    }
   ],
   "source": [
    "df=pd.read_csv(\"census_income_data.csv\")\n",
    "df.head(10)"
   ]
  },
  {
   "cell_type": "code",
   "execution_count": 113,
   "metadata": {},
   "outputs": [
    {
     "data": {
      "text/plain": [
       "(48842, 15)"
      ]
     },
     "execution_count": 113,
     "metadata": {},
     "output_type": "execute_result"
    }
   ],
   "source": [
    "df.shape"
   ]
  },
  {
   "cell_type": "markdown",
   "metadata": {},
   "source": [
    "#### Data Type Overview"
   ]
  },
  {
   "cell_type": "code",
   "execution_count": 114,
   "metadata": {},
   "outputs": [
    {
     "name": "stdout",
     "output_type": "stream",
     "text": [
      "<class 'pandas.core.frame.DataFrame'>\n",
      "RangeIndex: 48842 entries, 0 to 48841\n",
      "Data columns (total 15 columns):\n",
      "age               48842 non-null int64\n",
      "workclass         48842 non-null object\n",
      "fnlwgt            48842 non-null int64\n",
      "education         48842 non-null object\n",
      "education_num     48842 non-null int64\n",
      "marital_status    48842 non-null object\n",
      "occupation        48842 non-null object\n",
      "relationship      48842 non-null object\n",
      "race              48842 non-null object\n",
      "sex               48842 non-null object\n",
      "capital_gain      48842 non-null int64\n",
      "capital_loss      48842 non-null int64\n",
      "hours_per_week    48842 non-null int64\n",
      "native_country    48842 non-null object\n",
      "income            48842 non-null object\n",
      "dtypes: int64(6), object(9)\n",
      "memory usage: 5.6+ MB\n"
     ]
    }
   ],
   "source": [
    "df.info()"
   ]
  },
  {
   "cell_type": "markdown",
   "metadata": {},
   "source": [
    "#### Check for Missing Values"
   ]
  },
  {
   "cell_type": "code",
   "execution_count": 115,
   "metadata": {},
   "outputs": [
    {
     "data": {
      "text/plain": [
       "0"
      ]
     },
     "execution_count": 115,
     "metadata": {},
     "output_type": "execute_result"
    }
   ],
   "source": [
    "df.isnull().values.sum()"
   ]
  },
  {
   "cell_type": "markdown",
   "metadata": {},
   "source": [
    "### Visualizations on some features"
   ]
  },
  {
   "cell_type": "code",
   "execution_count": 116,
   "metadata": {},
   "outputs": [
    {
     "data": {
      "image/png": "[encoded data removed]",
      "text/plain": [
       "<Figure size 432x288 with 1 Axes>"
      ]
     },
     "metadata": {},
     "output_type": "display_data"
    }
   ],
   "source": [
    "%matplotlib inline\n",
    "marital_status = df['marital_status'].value_counts()\n",
    "sns.set(style=\"darkgrid\")\n",
    "sns.barplot(marital_status.index, marital_status.values, alpha=0.9)\n",
    "plt.xticks(rotation=45)\n",
    "plt.title('Frequency Distribution of Marital Status')\n",
    "plt.ylabel('Number of Occurrences', fontsize=12)\n",
    "plt.xlabel('Marital Status', fontsize=9)\n",
    "plt.show()"
   ]
  },
  {
   "cell_type": "code",
   "execution_count": 117,
   "metadata": {},
   "outputs": [
    {
     "data": {
      "image/png": "[encoded data removed]",
      "text/plain": [
       "<Figure size 432x288 with 1 Axes>"
      ]
     },
     "metadata": {},
     "output_type": "display_data"
    }
   ],
   "source": [
    "#occupation\n",
    "%matplotlib inline\n",
    "occupation = df['occupation'].value_counts()\n",
    "sns.set(style=\"darkgrid\")\n",
    "sns.barplot(occupation.index, occupation.values, alpha=0.9)\n",
    "plt.xticks(rotation=45)\n",
    "plt.title('Frequency Distribution of Occupation')\n",
    "plt.ylabel('Number of Occurrences', fontsize=12)\n",
    "plt.xlabel('Occupation', fontsize=12)\n",
    "plt.show()"
   ]
  },
  {
   "cell_type": "markdown",
   "metadata": {},
   "source": [
    "### Data Cleaning"
   ]
  },
  {
   "cell_type": "markdown",
   "metadata": {},
   "source": [
    "#### Feature Selection"
   ]
  },
  {
   "cell_type": "code",
   "execution_count": 120,
   "metadata": {},
   "outputs": [],
   "source": [
    "df=df.drop([\"fnlwgt\",\"education\"], axis=1)"
   ]
  },
  {
   "cell_type": "markdown",
   "metadata": {},
   "source": [
    "#### Target Variable Overview\n",
    "Problem: Same class is coded differently"
   ]
  },
  {
   "cell_type": "code",
   "execution_count": 121,
   "metadata": {},
   "outputs": [
    {
     "data": {
      "text/html": [
       "<div>\n",
       "<style scoped>\n",
       "    .dataframe tbody tr th:only-of-type {\n",
       "        vertical-align: middle;\n",
       "    }\n",
       "\n",
       "    .dataframe tbody tr th {\n",
       "        vertical-align: top;\n",
       "    }\n",
       "\n",
       "    .dataframe thead th {\n",
       "        text-align: right;\n",
       "    }\n",
       "</style>\n",
       "<table border=\"1\" class=\"dataframe\">\n",
       "  <thead>\n",
       "    <tr style=\"text-align: right;\">\n",
       "      <th></th>\n",
       "      <th>age</th>\n",
       "      <th>workclass</th>\n",
       "      <th>education_num</th>\n",
       "      <th>marital_status</th>\n",
       "      <th>occupation</th>\n",
       "      <th>relationship</th>\n",
       "      <th>race</th>\n",
       "      <th>sex</th>\n",
       "      <th>capital_gain</th>\n",
       "      <th>capital_loss</th>\n",
       "      <th>hours_per_week</th>\n",
       "      <th>native_country</th>\n",
       "    </tr>\n",
       "    <tr>\n",
       "      <th>income</th>\n",
       "      <th></th>\n",
       "      <th></th>\n",
       "      <th></th>\n",
       "      <th></th>\n",
       "      <th></th>\n",
       "      <th></th>\n",
       "      <th></th>\n",
       "      <th></th>\n",
       "      <th></th>\n",
       "      <th></th>\n",
       "      <th></th>\n",
       "      <th></th>\n",
       "    </tr>\n",
       "  </thead>\n",
       "  <tbody>\n",
       "    <tr>\n",
       "      <th>&lt;=50K</th>\n",
       "      <td>24720</td>\n",
       "      <td>24720</td>\n",
       "      <td>24720</td>\n",
       "      <td>24720</td>\n",
       "      <td>24720</td>\n",
       "      <td>24720</td>\n",
       "      <td>24720</td>\n",
       "      <td>24720</td>\n",
       "      <td>24720</td>\n",
       "      <td>24720</td>\n",
       "      <td>24720</td>\n",
       "      <td>24720</td>\n",
       "    </tr>\n",
       "    <tr>\n",
       "      <th>&lt;=50K.</th>\n",
       "      <td>12435</td>\n",
       "      <td>12435</td>\n",
       "      <td>12435</td>\n",
       "      <td>12435</td>\n",
       "      <td>12435</td>\n",
       "      <td>12435</td>\n",
       "      <td>12435</td>\n",
       "      <td>12435</td>\n",
       "      <td>12435</td>\n",
       "      <td>12435</td>\n",
       "      <td>12435</td>\n",
       "      <td>12435</td>\n",
       "    </tr>\n",
       "    <tr>\n",
       "      <th>&gt;50K</th>\n",
       "      <td>7841</td>\n",
       "      <td>7841</td>\n",
       "      <td>7841</td>\n",
       "      <td>7841</td>\n",
       "      <td>7841</td>\n",
       "      <td>7841</td>\n",
       "      <td>7841</td>\n",
       "      <td>7841</td>\n",
       "      <td>7841</td>\n",
       "      <td>7841</td>\n",
       "      <td>7841</td>\n",
       "      <td>7841</td>\n",
       "    </tr>\n",
       "    <tr>\n",
       "      <th>&gt;50K.</th>\n",
       "      <td>3846</td>\n",
       "      <td>3846</td>\n",
       "      <td>3846</td>\n",
       "      <td>3846</td>\n",
       "      <td>3846</td>\n",
       "      <td>3846</td>\n",
       "      <td>3846</td>\n",
       "      <td>3846</td>\n",
       "      <td>3846</td>\n",
       "      <td>3846</td>\n",
       "      <td>3846</td>\n",
       "      <td>3846</td>\n",
       "    </tr>\n",
       "  </tbody>\n",
       "</table>\n",
       "</div>"
      ],
      "text/plain": [
       "           age  workclass  education_num  marital_status  occupation  \\\n",
       "income                                                                 \n",
       " <=50K   24720      24720          24720           24720       24720   \n",
       " <=50K.  12435      12435          12435           12435       12435   \n",
       " >50K     7841       7841           7841            7841        7841   \n",
       " >50K.    3846       3846           3846            3846        3846   \n",
       "\n",
       "         relationship   race    sex  capital_gain  capital_loss  \\\n",
       "income                                                            \n",
       " <=50K          24720  24720  24720         24720         24720   \n",
       " <=50K.         12435  12435  12435         12435         12435   \n",
       " >50K            7841   7841   7841          7841          7841   \n",
       " >50K.           3846   3846   3846          3846          3846   \n",
       "\n",
       "         hours_per_week  native_country  \n",
       "income                                   \n",
       " <=50K            24720           24720  \n",
       " <=50K.           12435           12435  \n",
       " >50K              7841            7841  \n",
       " >50K.             3846            3846  "
      ]
     },
     "execution_count": 121,
     "metadata": {},
     "output_type": "execute_result"
    }
   ],
   "source": [
    "df.groupby(\"income\").count()"
   ]
  },
  {
   "cell_type": "markdown",
   "metadata": {},
   "source": [
    "#### Cleaning Target Variable\n",
    "##### The Problem"
   ]
  },
  {
   "cell_type": "code",
   "execution_count": 122,
   "metadata": {},
   "outputs": [
    {
     "data": {
      "text/html": [
       "<div>\n",
       "<style scoped>\n",
       "    .dataframe tbody tr th:only-of-type {\n",
       "        vertical-align: middle;\n",
       "    }\n",
       "\n",
       "    .dataframe tbody tr th {\n",
       "        vertical-align: top;\n",
       "    }\n",
       "\n",
       "    .dataframe thead th {\n",
       "        text-align: right;\n",
       "    }\n",
       "</style>\n",
       "<table border=\"1\" class=\"dataframe\">\n",
       "  <thead>\n",
       "    <tr style=\"text-align: right;\">\n",
       "      <th></th>\n",
       "      <th>age</th>\n",
       "      <th>education_num</th>\n",
       "      <th>capital_gain</th>\n",
       "      <th>capital_loss</th>\n",
       "      <th>hours_per_week</th>\n",
       "    </tr>\n",
       "    <tr>\n",
       "      <th>income</th>\n",
       "      <th></th>\n",
       "      <th></th>\n",
       "      <th></th>\n",
       "      <th></th>\n",
       "      <th></th>\n",
       "    </tr>\n",
       "  </thead>\n",
       "  <tbody>\n",
       "    <tr>\n",
       "      <th>&lt;=50K</th>\n",
       "      <td>36.783738</td>\n",
       "      <td>9.595065</td>\n",
       "      <td>148.752468</td>\n",
       "      <td>53.142921</td>\n",
       "      <td>38.840210</td>\n",
       "    </tr>\n",
       "    <tr>\n",
       "      <th>&lt;=50K.</th>\n",
       "      <td>37.048010</td>\n",
       "      <td>9.605308</td>\n",
       "      <td>143.547004</td>\n",
       "      <td>56.157780</td>\n",
       "      <td>38.839727</td>\n",
       "    </tr>\n",
       "    <tr>\n",
       "      <th>&gt;50K</th>\n",
       "      <td>44.249841</td>\n",
       "      <td>11.611657</td>\n",
       "      <td>4006.142456</td>\n",
       "      <td>195.001530</td>\n",
       "      <td>45.473026</td>\n",
       "    </tr>\n",
       "    <tr>\n",
       "      <th>&gt;50K.</th>\n",
       "      <td>44.326833</td>\n",
       "      <td>11.584763</td>\n",
       "      <td>4115.832033</td>\n",
       "      <td>190.526781</td>\n",
       "      <td>45.411856</td>\n",
       "    </tr>\n",
       "  </tbody>\n",
       "</table>\n",
       "</div>"
      ],
      "text/plain": [
       "               age  education_num  capital_gain  capital_loss  hours_per_week\n",
       "income                                                                       \n",
       " <=50K   36.783738       9.595065    148.752468     53.142921       38.840210\n",
       " <=50K.  37.048010       9.605308    143.547004     56.157780       38.839727\n",
       " >50K    44.249841      11.611657   4006.142456    195.001530       45.473026\n",
       " >50K.   44.326833      11.584763   4115.832033    190.526781       45.411856"
      ]
     },
     "execution_count": 122,
     "metadata": {},
     "output_type": "execute_result"
    }
   ],
   "source": [
    "# The Problem\n",
    "df.groupby(\"income\").mean()"
   ]
  },
  {
   "cell_type": "markdown",
   "metadata": {},
   "source": [
    "##### The Solution"
   ]
  },
  {
   "cell_type": "code",
   "execution_count": 123,
   "metadata": {},
   "outputs": [
    {
     "data": {
      "text/html": [
       "<div>\n",
       "<style scoped>\n",
       "    .dataframe tbody tr th:only-of-type {\n",
       "        vertical-align: middle;\n",
       "    }\n",
       "\n",
       "    .dataframe tbody tr th {\n",
       "        vertical-align: top;\n",
       "    }\n",
       "\n",
       "    .dataframe thead th {\n",
       "        text-align: right;\n",
       "    }\n",
       "</style>\n",
       "<table border=\"1\" class=\"dataframe\">\n",
       "  <thead>\n",
       "    <tr style=\"text-align: right;\">\n",
       "      <th></th>\n",
       "      <th>age</th>\n",
       "      <th>education_num</th>\n",
       "      <th>capital_gain</th>\n",
       "      <th>capital_loss</th>\n",
       "      <th>hours_per_week</th>\n",
       "    </tr>\n",
       "    <tr>\n",
       "      <th>income</th>\n",
       "      <th></th>\n",
       "      <th></th>\n",
       "      <th></th>\n",
       "      <th></th>\n",
       "      <th></th>\n",
       "    </tr>\n",
       "  </thead>\n",
       "  <tbody>\n",
       "    <tr>\n",
       "      <th>0</th>\n",
       "      <td>36.872184</td>\n",
       "      <td>9.598493</td>\n",
       "      <td>147.010308</td>\n",
       "      <td>54.151931</td>\n",
       "      <td>38.840048</td>\n",
       "    </tr>\n",
       "    <tr>\n",
       "      <th>1</th>\n",
       "      <td>44.275178</td>\n",
       "      <td>11.602807</td>\n",
       "      <td>4042.239497</td>\n",
       "      <td>193.528964</td>\n",
       "      <td>45.452896</td>\n",
       "    </tr>\n",
       "  </tbody>\n",
       "</table>\n",
       "</div>"
      ],
      "text/plain": [
       "              age  education_num  capital_gain  capital_loss  hours_per_week\n",
       "income                                                                      \n",
       "0       36.872184       9.598493    147.010308     54.151931       38.840048\n",
       "1       44.275178      11.602807   4042.239497    193.528964       45.452896"
      ]
     },
     "execution_count": 123,
     "metadata": {},
     "output_type": "execute_result"
    }
   ],
   "source": [
    "#The solution\n",
    "df[\"income\"] = df[\"income\"].astype('category')\n",
    "df[\"income\"] = df[\"income\"].cat.codes\n",
    "df.loc[df.income==1, 'income'] = 0\n",
    "df.loc[df.income==2, 'income'] = 1\n",
    "df.loc[df.income==3, 'income'] = 1\n",
    "df[\"income\"] = df[\"income\"].astype('category')\n",
    "df.groupby(\"income\").mean()"
   ]
  },
  {
   "cell_type": "markdown",
   "metadata": {},
   "source": [
    "### Transforming categorical features"
   ]
  },
  {
   "cell_type": "code",
   "execution_count": 124,
   "metadata": {},
   "outputs": [
    {
     "name": "stdout",
     "output_type": "stream",
     "text": [
      "<class 'pandas.core.frame.DataFrame'>\n",
      "RangeIndex: 48842 entries, 0 to 48841\n",
      "Data columns (total 13 columns):\n",
      "age               48842 non-null int64\n",
      "workclass         48842 non-null object\n",
      "education_num     48842 non-null int64\n",
      "marital_status    48842 non-null object\n",
      "occupation        48842 non-null object\n",
      "relationship      48842 non-null object\n",
      "race              48842 non-null object\n",
      "sex               48842 non-null object\n",
      "capital_gain      48842 non-null int64\n",
      "capital_loss      48842 non-null int64\n",
      "hours_per_week    48842 non-null int64\n",
      "native_country    48842 non-null object\n",
      "income            48842 non-null category\n",
      "dtypes: category(1), int64(5), object(7)\n",
      "memory usage: 4.5+ MB\n"
     ]
    }
   ],
   "source": [
    "df.info()"
   ]
  },
  {
   "cell_type": "code",
   "execution_count": 125,
   "metadata": {},
   "outputs": [],
   "source": [
    "categoricals=df.select_dtypes(include=\"object\").columns \n",
    "df=pd.get_dummies(df,columns=categoricals,drop_first=True)"
   ]
  },
  {
   "cell_type": "code",
   "execution_count": 126,
   "metadata": {},
   "outputs": [],
   "source": [
    "columns = df.columns.tolist()\n",
    "columns.remove(\"income\")\n",
    "columns.append(\"income\")"
   ]
  },
  {
   "cell_type": "code",
   "execution_count": 127,
   "metadata": {},
   "outputs": [
    {
     "data": {
      "text/plain": [
       "(48842, 85)"
      ]
     },
     "execution_count": 127,
     "metadata": {},
     "output_type": "execute_result"
    }
   ],
   "source": [
    "df=df[columns]\n",
    "df.shape"
   ]
  },
  {
   "cell_type": "markdown",
   "metadata": {},
   "source": [
    "#### Standardize Numerical Variable"
   ]
  },
  {
   "cell_type": "code",
   "execution_count": null,
   "metadata": {},
   "outputs": [],
   "source": [
    "numericals=df.select_dtypes(include=\"int64\").columns\n",
    "df[numericals] = StandardScaler().fit_transform(df[numericals])"
   ]
  },
  {
   "cell_type": "code",
   "execution_count": 129,
   "metadata": {},
   "outputs": [
    {
     "data": {
      "text/html": [
       "<div>\n",
       "<style scoped>\n",
       "    .dataframe tbody tr th:only-of-type {\n",
       "        vertical-align: middle;\n",
       "    }\n",
       "\n",
       "    .dataframe tbody tr th {\n",
       "        vertical-align: top;\n",
       "    }\n",
       "\n",
       "    .dataframe thead th {\n",
       "        text-align: right;\n",
       "    }\n",
       "</style>\n",
       "<table border=\"1\" class=\"dataframe\">\n",
       "  <thead>\n",
       "    <tr style=\"text-align: right;\">\n",
       "      <th></th>\n",
       "      <th>age</th>\n",
       "      <th>education_num</th>\n",
       "      <th>capital_gain</th>\n",
       "      <th>capital_loss</th>\n",
       "      <th>hours_per_week</th>\n",
       "      <th>workclass_ Federal-gov</th>\n",
       "      <th>workclass_ Local-gov</th>\n",
       "      <th>workclass_ Never-worked</th>\n",
       "      <th>workclass_ Private</th>\n",
       "      <th>workclass_ Self-emp-inc</th>\n",
       "      <th>...</th>\n",
       "      <th>native_country_ Puerto-Rico</th>\n",
       "      <th>native_country_ Scotland</th>\n",
       "      <th>native_country_ South</th>\n",
       "      <th>native_country_ Taiwan</th>\n",
       "      <th>native_country_ Thailand</th>\n",
       "      <th>native_country_ Trinadad&amp;Tobago</th>\n",
       "      <th>native_country_ United-States</th>\n",
       "      <th>native_country_ Vietnam</th>\n",
       "      <th>native_country_ Yugoslavia</th>\n",
       "      <th>income</th>\n",
       "    </tr>\n",
       "  </thead>\n",
       "  <tbody>\n",
       "    <tr>\n",
       "      <th>0</th>\n",
       "      <td>0.025996</td>\n",
       "      <td>1.136512</td>\n",
       "      <td>0.146932</td>\n",
       "      <td>-0.217127</td>\n",
       "      <td>-0.034087</td>\n",
       "      <td>0</td>\n",
       "      <td>0</td>\n",
       "      <td>0</td>\n",
       "      <td>0</td>\n",
       "      <td>0</td>\n",
       "      <td>...</td>\n",
       "      <td>0</td>\n",
       "      <td>0</td>\n",
       "      <td>0</td>\n",
       "      <td>0</td>\n",
       "      <td>0</td>\n",
       "      <td>0</td>\n",
       "      <td>1</td>\n",
       "      <td>0</td>\n",
       "      <td>0</td>\n",
       "      <td>0</td>\n",
       "    </tr>\n",
       "    <tr>\n",
       "      <th>1</th>\n",
       "      <td>0.828308</td>\n",
       "      <td>1.136512</td>\n",
       "      <td>-0.144804</td>\n",
       "      <td>-0.217127</td>\n",
       "      <td>-2.213032</td>\n",
       "      <td>0</td>\n",
       "      <td>0</td>\n",
       "      <td>0</td>\n",
       "      <td>0</td>\n",
       "      <td>0</td>\n",
       "      <td>...</td>\n",
       "      <td>0</td>\n",
       "      <td>0</td>\n",
       "      <td>0</td>\n",
       "      <td>0</td>\n",
       "      <td>0</td>\n",
       "      <td>0</td>\n",
       "      <td>1</td>\n",
       "      <td>0</td>\n",
       "      <td>0</td>\n",
       "      <td>0</td>\n",
       "    </tr>\n",
       "    <tr>\n",
       "      <th>2</th>\n",
       "      <td>-0.046942</td>\n",
       "      <td>-0.419335</td>\n",
       "      <td>-0.144804</td>\n",
       "      <td>-0.217127</td>\n",
       "      <td>-0.034087</td>\n",
       "      <td>0</td>\n",
       "      <td>0</td>\n",
       "      <td>0</td>\n",
       "      <td>1</td>\n",
       "      <td>0</td>\n",
       "      <td>...</td>\n",
       "      <td>0</td>\n",
       "      <td>0</td>\n",
       "      <td>0</td>\n",
       "      <td>0</td>\n",
       "      <td>0</td>\n",
       "      <td>0</td>\n",
       "      <td>1</td>\n",
       "      <td>0</td>\n",
       "      <td>0</td>\n",
       "      <td>0</td>\n",
       "    </tr>\n",
       "  </tbody>\n",
       "</table>\n",
       "<p>3 rows × 85 columns</p>\n",
       "</div>"
      ],
      "text/plain": [
       "        age  education_num  capital_gain  capital_loss  hours_per_week  \\\n",
       "0  0.025996       1.136512      0.146932     -0.217127       -0.034087   \n",
       "1  0.828308       1.136512     -0.144804     -0.217127       -2.213032   \n",
       "2 -0.046942      -0.419335     -0.144804     -0.217127       -0.034087   \n",
       "\n",
       "   workclass_ Federal-gov  workclass_ Local-gov  workclass_ Never-worked  \\\n",
       "0                       0                     0                        0   \n",
       "1                       0                     0                        0   \n",
       "2                       0                     0                        0   \n",
       "\n",
       "   workclass_ Private  workclass_ Self-emp-inc  ...  \\\n",
       "0                   0                        0  ...   \n",
       "1                   0                        0  ...   \n",
       "2                   1                        0  ...   \n",
       "\n",
       "   native_country_ Puerto-Rico  native_country_ Scotland  \\\n",
       "0                            0                         0   \n",
       "1                            0                         0   \n",
       "2                            0                         0   \n",
       "\n",
       "   native_country_ South  native_country_ Taiwan  native_country_ Thailand  \\\n",
       "0                      0                       0                         0   \n",
       "1                      0                       0                         0   \n",
       "2                      0                       0                         0   \n",
       "\n",
       "   native_country_ Trinadad&Tobago  native_country_ United-States  \\\n",
       "0                                0                              1   \n",
       "1                                0                              1   \n",
       "2                                0                              1   \n",
       "\n",
       "   native_country_ Vietnam  native_country_ Yugoslavia  income  \n",
       "0                        0                           0       0  \n",
       "1                        0                           0       0  \n",
       "2                        0                           0       0  \n",
       "\n",
       "[3 rows x 85 columns]"
      ]
     },
     "execution_count": 129,
     "metadata": {},
     "output_type": "execute_result"
    }
   ],
   "source": [
    "df.head(3)"
   ]
  },
  {
   "cell_type": "markdown",
   "metadata": {},
   "source": [
    "## Summary Data Processing\n",
    "- 2 variables are dropped because they are (1) irrelevant: \"fnlwgt\" or (2) redundant: \"education\"\n",
    "- the Target variable is unified and transformed to a dummy\n",
    "- all numerical variables are standarized\n",
    "- all categorical variables are transformed into dummy variables with m-1 columns for m manifestations"
   ]
  },
  {
   "cell_type": "markdown",
   "metadata": {},
   "source": [
    "### Linear Regression for Variable Effect Overview"
   ]
  },
  {
   "cell_type": "code",
   "execution_count": 99,
   "metadata": {},
   "outputs": [
    {
     "name": "stdout",
     "output_type": "stream",
     "text": [
      "                            OLS Regression Results                            \n",
      "==============================================================================\n",
      "Dep. Variable:                 income   R-squared:                       0.362\n",
      "Model:                            OLS   Adj. R-squared:                  0.361\n",
      "Method:                 Least Squares   F-statistic:                     333.9\n",
      "Date:                Tue, 15 Oct 2019   Prob (F-statistic):               0.00\n",
      "Time:                        15:21:55   Log-Likelihood:                -16708.\n",
      "No. Observations:               48842   AIC:                         3.358e+04\n",
      "Df Residuals:                   48758   BIC:                         3.432e+04\n",
      "Df Model:                          83                                         \n",
      "Covariance Type:            nonrobust                                         \n",
      "==============================================================================================================\n",
      "                                                 coef    std err          t      P>|t|      [0.025      0.975]\n",
      "--------------------------------------------------------------------------------------------------------------\n",
      "const                                         -0.4532      0.031    -14.643      0.000      -0.514      -0.393\n",
      "age                                            0.0026      0.000     17.935      0.000       0.002       0.003\n",
      "education_num                                  0.0313      0.001     41.091      0.000       0.030       0.033\n",
      "capital_gain                                8.065e-06   2.11e-07     38.164      0.000    7.65e-06    8.48e-06\n",
      "capital_loss                                9.285e-05   3.87e-06     24.012      0.000    8.53e-05       0.000\n",
      "hours_per_week                                 0.0028      0.000     20.261      0.000       0.003       0.003\n",
      "workclass_ Federal-gov                         0.1119      0.011     10.144      0.000       0.090       0.134\n",
      "workclass_ Local-gov                           0.0164      0.009      1.747      0.081      -0.002       0.035\n",
      "workclass_ Never-worked                        0.0739      0.108      0.684      0.494      -0.138       0.286\n",
      "workclass_ Private                             0.0386      0.007      5.167      0.000       0.024       0.053\n",
      "workclass_ Self-emp-inc                        0.0958      0.011      8.730      0.000       0.074       0.117\n",
      "workclass_ Self-emp-not-inc                   -0.0313      0.009     -3.445      0.001      -0.049      -0.013\n",
      "workclass_ State-gov                          -0.0008      0.010     -0.075      0.940      -0.021       0.020\n",
      "workclass_ Without-pay                        -0.0601      0.071     -0.844      0.399      -0.200       0.080\n",
      "marital_status_ Married-AF-spouse              0.0833      0.059      1.407      0.159      -0.033       0.199\n",
      "marital_status_ Married-civ-spouse             0.1257      0.019      6.557      0.000       0.088       0.163\n",
      "marital_status_ Married-spouse-absent          0.0432      0.014      3.003      0.003       0.015       0.071\n",
      "marital_status_ Never-married                 -0.0027      0.006     -0.470      0.638      -0.014       0.009\n",
      "marital_status_ Separated                      0.0198      0.010      2.033      0.042       0.001       0.039\n",
      "marital_status_ Widowed                        0.0190      0.010      1.888      0.059      -0.001       0.039\n",
      "occupation_ Adm-clerical                      -0.0023      0.008     -0.303      0.762      -0.017       0.013\n",
      "occupation_ Armed-Forces                       0.0336      0.084      0.398      0.691      -0.132       0.199\n",
      "occupation_ Craft-repair                      -0.0186      0.008     -2.441      0.015      -0.034      -0.004\n",
      "occupation_ Exec-managerial                    0.1368      0.008     17.926      0.000       0.122       0.152\n",
      "occupation_ Farming-fishing                   -0.0973      0.011     -9.133      0.000      -0.118      -0.076\n",
      "occupation_ Handlers-cleaners                 -0.0536      0.010     -5.584      0.000      -0.072      -0.035\n",
      "occupation_ Machine-op-inspct                 -0.0476      0.009     -5.463      0.000      -0.065      -0.031\n",
      "occupation_ Other-service                     -0.0218      0.008     -2.786      0.005      -0.037      -0.006\n",
      "occupation_ Priv-house-serv                    0.0158      0.022      0.712      0.476      -0.028       0.059\n",
      "occupation_ Prof-specialty                     0.1057      0.008     13.461      0.000       0.090       0.121\n",
      "occupation_ Protective-serv                    0.0558      0.012      4.507      0.000       0.032       0.080\n",
      "occupation_ Sales                              0.0432      0.008      5.621      0.000       0.028       0.058\n",
      "occupation_ Tech-support                       0.0620      0.011      5.846      0.000       0.041       0.083\n",
      "occupation_ Transport-moving                  -0.0412      0.009     -4.439      0.000      -0.059      -0.023\n",
      "relationship_ Not-in-family                   -0.1613      0.019     -8.447      0.000      -0.199      -0.124\n",
      "relationship_ Other-relative                  -0.1373      0.019     -7.315      0.000      -0.174      -0.100\n",
      "relationship_ Own-child                       -0.1326      0.019     -6.952      0.000      -0.170      -0.095\n",
      "relationship_ Unmarried                       -0.1514      0.020     -7.645      0.000      -0.190      -0.113\n",
      "relationship_ Wife                             0.0956      0.009     10.972      0.000       0.079       0.113\n",
      "race_ Asian-Pac-Islander                       0.0478      0.021      2.320      0.020       0.007       0.088\n",
      "race_ Black                                    0.0299      0.017      1.803      0.071      -0.003       0.062\n",
      "race_ Other                                    0.0354      0.023      1.509      0.131      -0.011       0.081\n",
      "race_ White                                    0.0476      0.016      2.998      0.003       0.016       0.079\n",
      "sex_ Male                                      0.0553      0.005     11.963      0.000       0.046       0.064\n",
      "native_country_ Cambodia                       0.1231      0.066      1.859      0.063      -0.007       0.253\n",
      "native_country_ Canada                         0.0685      0.028      2.453      0.014       0.014       0.123\n",
      "native_country_ China                         -0.0509      0.035     -1.463      0.144      -0.119       0.017\n",
      "native_country_ Columbia                      -0.0858      0.039     -2.207      0.027      -0.162      -0.010\n",
      "native_country_ Cuba                           0.0172      0.031      0.549      0.583      -0.044       0.079\n",
      "native_country_ Dominican-Republic            -0.0056      0.036     -0.157      0.875      -0.076       0.065\n",
      "native_country_ Ecuador                       -0.0084      0.052     -0.161      0.872      -0.111       0.094\n",
      "native_country_ El-Salvador                    0.0597      0.030      1.987      0.047       0.001       0.118\n",
      "native_country_ England                        0.0900      0.033      2.770      0.006       0.026       0.154\n",
      "native_country_ France                         0.1148      0.057      2.029      0.042       0.004       0.226\n",
      "native_country_ Germany                        0.0310      0.027      1.169      0.243      -0.021       0.083\n",
      "native_country_ Greece                         0.0109      0.050      0.217      0.829      -0.087       0.109\n",
      "native_country_ Guatemala                      0.0615      0.039      1.597      0.110      -0.014       0.137\n",
      "native_country_ Haiti                          0.0353      0.041      0.854      0.393      -0.046       0.116\n",
      "native_country_ Holand-Netherlands            -0.1589      0.341     -0.465      0.642      -0.828       0.510\n",
      "native_country_ Honduras                       0.0444      0.077      0.575      0.566      -0.107       0.196\n",
      "native_country_ Hong                          -0.0328      0.064     -0.512      0.609      -0.158       0.093\n",
      "native_country_ Hungary                        0.0446      0.079      0.564      0.573      -0.111       0.200\n",
      "native_country_ India                          0.0157      0.031      0.499      0.618      -0.046       0.077\n",
      "native_country_ Iran                           0.0207      0.046      0.451      0.652      -0.069       0.111\n",
      "native_country_ Ireland                        0.1228      0.057      2.142      0.032       0.010       0.235\n",
      "native_country_ Italy                          0.0802      0.035      2.267      0.023       0.011       0.150\n",
      "native_country_ Jamaica                        0.0247      0.035      0.698      0.485      -0.045       0.094\n",
      "native_country_ Japan                          0.0413      0.038      1.092      0.275      -0.033       0.116\n",
      "native_country_ Laos                          -0.0794      0.073     -1.087      0.277      -0.222       0.064\n",
      "native_country_ Mexico                         0.0234      0.017      1.413      0.158      -0.009       0.056\n",
      "native_country_ Nicaragua                     -0.0301      0.050     -0.599      0.549      -0.128       0.068\n",
      "native_country_ Outlying-US(Guam-USVI-etc)    -0.0792      0.072     -1.099      0.272      -0.220       0.062\n",
      "native_country_ Peru                          -0.0574      0.052     -1.110      0.267      -0.159       0.044\n",
      "native_country_ Philippines                    0.0408      0.025      1.607      0.108      -0.009       0.091\n",
      "native_country_ Poland                        -0.0167      0.038     -0.434      0.664      -0.092       0.059\n",
      "native_country_ Portugal                       0.0570      0.043      1.313      0.189      -0.028       0.142\n",
      "native_country_ Puerto-Rico                   -0.0030      0.028     -0.107      0.915      -0.058       0.052\n",
      "native_country_ Scotland                      -0.1063      0.075     -1.411      0.158      -0.254       0.041\n",
      "native_country_ South                         -0.0836      0.036     -2.351      0.019      -0.153      -0.014\n",
      "native_country_ Taiwan                         0.0064      0.045      0.142      0.887      -0.082       0.095\n",
      "native_country_ Thailand                      -0.0673      0.064     -1.052      0.293      -0.193       0.058\n",
      "native_country_ Trinadad&Tobago               -0.0870      0.067     -1.303      0.193      -0.218       0.044\n",
      "native_country_ United-States                  0.0287      0.012      2.404      0.016       0.005       0.052\n",
      "native_country_ Vietnam                       -0.0592      0.040     -1.473      0.141      -0.138       0.020\n",
      "native_country_ Yugoslavia                     0.0989      0.072      1.372      0.170      -0.042       0.240\n",
      "==============================================================================\n",
      "Omnibus:                     2236.226   Durbin-Watson:                   1.999\n",
      "Prob(Omnibus):                  0.000   Jarque-Bera (JB):             2489.501\n",
      "Skew:                           0.541   Prob(JB):                         0.00\n",
      "Kurtosis:                       2.770   Cond. No.                     1.49e+17\n",
      "==============================================================================\n",
      "\n",
      "Warnings:\n",
      "[1] Standard Errors assume that the covariance matrix of the errors is correctly specified.\n",
      "[2] The smallest eigenvalue is 1.25e-22. This might indicate that there are\n",
      "strong multicollinearity problems or that the design matrix is singular.\n"
     ]
    }
   ],
   "source": [
    "X=df.loc[:,df.columns!=\"income\"]   \n",
    "y=df[\"income\"]\n",
    "X2 = sm.add_constant(X)\n",
    "est = sm.OLS(y, X2).fit()\n",
    "print(est.summary())"
   ]
  },
  {
   "cell_type": "markdown",
   "metadata": {},
   "source": [
    "## 2. Prediction\n",
    "This is a supervised 2-class classification problem.\n",
    "### 2.1 Comparison of Default Models\n",
    "Five different models in their default setting are trained on a train set (80%) and evaluated on the test set (20%) with their prediction accuracy."
   ]
  },
  {
   "cell_type": "code",
   "execution_count": 135,
   "metadata": {},
   "outputs": [],
   "source": [
    "def prediction(df, model=\"logit\", seed=1):\n",
    "    '''This function returns the accuracy of a \n",
    "    prediction dependent on the model used.'''\n",
    "    \n",
    "    # Create Train and Test Sets\n",
    "    X=df.loc[:,df.columns!=\"income\"]\n",
    "    y=df[\"income\"].values.ravel()\n",
    "    X_train, X_test, y_train, y_test = train_test_split(X, y, test_size = 0.2, random_state = seed)\n",
    "    \n",
    "    # Select Model\n",
    "    if model==\"Logit\":\n",
    "        model= LogisticRegression(random_state=1, solver='liblinear')#regularization is applied by default\n",
    "    elif model==\"Naive Bayes\":\n",
    "        model= GaussianNB()\n",
    "    elif model==\"Multi-layer Perceptron\":\n",
    "        model= MLPClassifier()\n",
    "    elif model==\"Ridge Classifier\":\n",
    "        model= RidgeClassifierCV()\n",
    "    elif model==\"Gradient Boosting\":\n",
    "        model= ensemble.GradientBoostingClassifier()\n",
    "    \n",
    "    # Fit Model and Return Accuracy\n",
    "    model.fit(X_train, y_train)\n",
    "    accuracy=model.score(X_test,y_test)\n",
    "    return(accuracy)"
   ]
  },
  {
   "cell_type": "markdown",
   "metadata": {},
   "source": [
    "#### The results are illustrated in a table"
   ]
  },
  {
   "cell_type": "code",
   "execution_count": 131,
   "metadata": {},
   "outputs": [],
   "source": [
    "def create_results(result_table,n,model):\n",
    "    '''This functions shows the mean accuracy (and its variance)\n",
    "    over n different train-test-splits.'''\n",
    "    \n",
    "    acc=[]\n",
    "    for seed in range(n):\n",
    "        acc_n=prediction(df,seed=seed,model=model)\n",
    "        acc.append(acc_n)\n",
    "    mean = sum(acc)/len(acc)\n",
    "    sd = statistics.stdev(acc)\n",
    "    result_table.loc[model,\"Mean\"] = mean\n",
    "    result_table.loc[model,\"SD\"] = sd\n",
    "    return(result_table)"
   ]
  },
  {
   "cell_type": "code",
   "execution_count": null,
   "metadata": {},
   "outputs": [],
   "source": [
    "columns=[\"Mean\", \"SD\"]\n",
    "models=[\"Naive Bayes\",\n",
    "        \"Logit\",\n",
    "        \"Ridge Classifier\",\n",
    "        \"Gradient Boosting\",\n",
    "        \"Multi-layer Perceptron\"]\n",
    "result_df=pd.DataFrame(columns=columns, index=models)\n",
    "for model in models:\n",
    "    results=create_results(result_df,10,model)"
   ]
  },
  {
   "cell_type": "markdown",
   "metadata": {},
   "source": [
    "### Results with default parameters"
   ]
  },
  {
   "cell_type": "code",
   "execution_count": 133,
   "metadata": {},
   "outputs": [
    {
     "data": {
      "text/html": [
       "<div>\n",
       "<style scoped>\n",
       "    .dataframe tbody tr th:only-of-type {\n",
       "        vertical-align: middle;\n",
       "    }\n",
       "\n",
       "    .dataframe tbody tr th {\n",
       "        vertical-align: top;\n",
       "    }\n",
       "\n",
       "    .dataframe thead th {\n",
       "        text-align: right;\n",
       "    }\n",
       "</style>\n",
       "<table border=\"1\" class=\"dataframe\">\n",
       "  <thead>\n",
       "    <tr style=\"text-align: right;\">\n",
       "      <th></th>\n",
       "      <th>Mean</th>\n",
       "      <th>SD</th>\n",
       "    </tr>\n",
       "  </thead>\n",
       "  <tbody>\n",
       "    <tr>\n",
       "      <th>Naive Bayes</th>\n",
       "      <td>0.58007</td>\n",
       "      <td>0.026521</td>\n",
       "    </tr>\n",
       "    <tr>\n",
       "      <th>Logit</th>\n",
       "      <td>0.851377</td>\n",
       "      <td>0.00390552</td>\n",
       "    </tr>\n",
       "    <tr>\n",
       "      <th>Ridge Classifier</th>\n",
       "      <td>0.840874</td>\n",
       "      <td>0.00274896</td>\n",
       "    </tr>\n",
       "    <tr>\n",
       "      <th>XGB</th>\n",
       "      <td>0.867407</td>\n",
       "      <td>0.00288284</td>\n",
       "    </tr>\n",
       "    <tr>\n",
       "      <th>MLP</th>\n",
       "      <td>0.850537</td>\n",
       "      <td>0.00539972</td>\n",
       "    </tr>\n",
       "  </tbody>\n",
       "</table>\n",
       "</div>"
      ],
      "text/plain": [
       "                      Mean          SD\n",
       "Naive Bayes        0.58007    0.026521\n",
       "Logit             0.851377  0.00390552\n",
       "Ridge Classifier  0.840874  0.00274896\n",
       "XGB               0.867407  0.00288284\n",
       "MLP               0.850537  0.00539972"
      ]
     },
     "execution_count": 133,
     "metadata": {},
     "output_type": "execute_result"
    }
   ],
   "source": [
    "result_df"
   ]
  },
  {
   "cell_type": "markdown",
   "metadata": {},
   "source": [
    "### 2.2 Manual Optimization of Parameters for Gradient Boost Model\n",
    "Since the Gradient Boosting Classifier has 2 percentage points higher accuracy than the other classifiers in its default settings, this classifier is further optimized. (It is possible that another classifier is even superior when optimized in its parameters.)\n",
    "##### The following parameters are chosen for a simultaneous optimization\n",
    "- subsample (default 1.0) \"Choosing subsample < 1.0 leads to a reduction of variance and an increase in bias\"\n",
    "- max_depth (default 3) \"The maximum depth limits the number of nodes in the tree. Tune this parameter for best performance; the best value depends on the interaction of the input variables.\"\n",
    "\n",
    "from its [scikit-learn documentation](https://scikitlearn.org/stable/modules/generated/sklearn.ensemble.GradientBoostingClassifier.html)"
   ]
  },
  {
   "cell_type": "code",
   "execution_count": 166,
   "metadata": {},
   "outputs": [
    {
     "data": {
      "text/html": [
       "<div>\n",
       "<style scoped>\n",
       "    .dataframe tbody tr th:only-of-type {\n",
       "        vertical-align: middle;\n",
       "    }\n",
       "\n",
       "    .dataframe tbody tr th {\n",
       "        vertical-align: top;\n",
       "    }\n",
       "\n",
       "    .dataframe thead th {\n",
       "        text-align: right;\n",
       "    }\n",
       "</style>\n",
       "<table border=\"1\" class=\"dataframe\">\n",
       "  <thead>\n",
       "    <tr style=\"text-align: right;\">\n",
       "      <th></th>\n",
       "      <th>0.3</th>\n",
       "      <th>0.6</th>\n",
       "      <th>1</th>\n",
       "    </tr>\n",
       "  </thead>\n",
       "  <tbody>\n",
       "    <tr>\n",
       "      <th>1</th>\n",
       "      <td>NaN</td>\n",
       "      <td>NaN</td>\n",
       "      <td>NaN</td>\n",
       "    </tr>\n",
       "    <tr>\n",
       "      <th>2</th>\n",
       "      <td>NaN</td>\n",
       "      <td>NaN</td>\n",
       "      <td>NaN</td>\n",
       "    </tr>\n",
       "    <tr>\n",
       "      <th>3</th>\n",
       "      <td>NaN</td>\n",
       "      <td>NaN</td>\n",
       "      <td>NaN</td>\n",
       "    </tr>\n",
       "    <tr>\n",
       "      <th>6</th>\n",
       "      <td>NaN</td>\n",
       "      <td>NaN</td>\n",
       "      <td>NaN</td>\n",
       "    </tr>\n",
       "    <tr>\n",
       "      <th>9</th>\n",
       "      <td>NaN</td>\n",
       "      <td>NaN</td>\n",
       "      <td>NaN</td>\n",
       "    </tr>\n",
       "  </tbody>\n",
       "</table>\n",
       "</div>"
      ],
      "text/plain": [
       "   0.3  0.6    1\n",
       "1  NaN  NaN  NaN\n",
       "2  NaN  NaN  NaN\n",
       "3  NaN  NaN  NaN\n",
       "6  NaN  NaN  NaN\n",
       "9  NaN  NaN  NaN"
      ]
     },
     "execution_count": 166,
     "metadata": {},
     "output_type": "execute_result"
    }
   ],
   "source": [
    "subsamples=[\"0.3\", \"0.6\", \"1\"]\n",
    "max_depths=[\"1\",\"2\",\"3\",\"6\",\"9\"]\n",
    "parameter_selection_1=pd.DataFrame(columns=subsamples, index=max_depths)\n",
    "parameter_selection_1"
   ]
  },
  {
   "cell_type": "code",
   "execution_count": null,
   "metadata": {},
   "outputs": [],
   "source": [
    "def gradient_boost(dataframe,n,subsample=subsample, max_depth = max_depth):\n",
    "    '''This function returns the accuracy of a \n",
    "    gradient boost prediction dependent on the \n",
    "    parameters subsample and max_depth used.'''\n",
    "    X   = df.loc[:,df.columns!=\"income\"]\n",
    "    y   = df[\"income\"].values.ravel()    \n",
    "    acc = []\n",
    "    for seed in range(n):\n",
    "        # Create Train and Test Sets\n",
    "        X_train, X_test, y_train, y_test = train_test_split(X, y, test_size = 0.2, random_state = seed)\n",
    "\n",
    "        # Set Parameters\n",
    "        model = ensemble.GradientBoostingClassifier(subsample=subsample,max_depth=max_depth)\n",
    "\n",
    "        # Fit Model and Return Accuracy\n",
    "        model.fit(X_train, y_train)\n",
    "        accuracy = model.score(X_test,y_test)\n",
    "        acc.append(accuracy)\n",
    "    mean_accuracy = sum(acc)/len(acc)\n",
    "    return(mean_accuracy)"
   ]
  },
  {
   "cell_type": "code",
   "execution_count": null,
   "metadata": {},
   "outputs": [],
   "source": [
    "for subsample in subsamples:\n",
    "    print(subsample)\n",
    "        for max_depth in max_depths:\n",
    "            subsample_num = float(subsample)\n",
    "            max_depth_num = float(max_depth)\n",
    "            result=gradient_boost(dataframe=df, n=3, subsample=subsample_num, max_depth=max_depth_num)\n",
    "            print(result)\n",
    "            parameter_selection_1.loc[max_depth,subsample]=result"
   ]
  },
  {
   "cell_type": "code",
   "execution_count": 187,
   "metadata": {},
   "outputs": [
    {
     "data": {
      "text/html": [
       "<div>\n",
       "<style scoped>\n",
       "    .dataframe tbody tr th:only-of-type {\n",
       "        vertical-align: middle;\n",
       "    }\n",
       "\n",
       "    .dataframe tbody tr th {\n",
       "        vertical-align: top;\n",
       "    }\n",
       "\n",
       "    .dataframe thead th {\n",
       "        text-align: right;\n",
       "    }\n",
       "</style>\n",
       "<table border=\"1\" class=\"dataframe\">\n",
       "  <thead>\n",
       "    <tr style=\"text-align: right;\">\n",
       "      <th></th>\n",
       "      <th>0.3</th>\n",
       "      <th>0.6</th>\n",
       "      <th>1</th>\n",
       "    </tr>\n",
       "  </thead>\n",
       "  <tbody>\n",
       "    <tr>\n",
       "      <th>1</th>\n",
       "      <td>0.85471</td>\n",
       "      <td>0.855222</td>\n",
       "      <td>0.855666</td>\n",
       "    </tr>\n",
       "    <tr>\n",
       "      <th>2</th>\n",
       "      <td>0.861876</td>\n",
       "      <td>0.861774</td>\n",
       "      <td>0.861228</td>\n",
       "    </tr>\n",
       "    <tr>\n",
       "      <th>3</th>\n",
       "      <td>0.866073</td>\n",
       "      <td>0.867677</td>\n",
       "      <td>0.867506</td>\n",
       "    </tr>\n",
       "    <tr>\n",
       "      <th>6</th>\n",
       "      <td>0.870782</td>\n",
       "      <td>0.873</td>\n",
       "      <td>0.873921</td>\n",
       "    </tr>\n",
       "    <tr>\n",
       "      <th>9</th>\n",
       "      <td>0.868496</td>\n",
       "      <td>0.870202</td>\n",
       "      <td>0.871259</td>\n",
       "    </tr>\n",
       "  </tbody>\n",
       "</table>\n",
       "</div>"
      ],
      "text/plain": [
       "        0.3       0.6         1\n",
       "1   0.85471  0.855222  0.855666\n",
       "2  0.861876  0.861774  0.861228\n",
       "3  0.866073  0.867677  0.867506\n",
       "6  0.870782     0.873  0.873921\n",
       "9  0.868496  0.870202  0.871259"
      ]
     },
     "execution_count": 187,
     "metadata": {},
     "output_type": "execute_result"
    }
   ],
   "source": [
    "parameter_selection_1"
   ]
  },
  {
   "cell_type": "markdown",
   "metadata": {},
   "source": [
    "##### Zooming closer to the optimal area"
   ]
  },
  {
   "cell_type": "code",
   "execution_count": null,
   "metadata": {},
   "outputs": [],
   "source": [
    "subsamples_2 = [\"0.5\",\"0.75\",\"0.9\",\"1\"]\n",
    "max_depths_2 = [\"5\",\"6\",\"7\",\"8\"]\n",
    "parameter_selection_2=pd.DataFrame(columns=subsamples_2, index=max_depths_2)\n",
    "for subsample in subsamples_2:\n",
    "    print(subsample)\n",
    "    for max_depth in max_depths_2:\n",
    "        subsample_num = float(subsample)\n",
    "        max_depth_num = int(max_depth)\n",
    "        result=gradient_boost(dataframe=df, n=3, subsample=subsample_num, max_depth=max_depth_num)\n",
    "        print(result)\n",
    "        parameter_selection_2.loc[max_depth,subsample]=result"
   ]
  },
  {
   "cell_type": "code",
   "execution_count": 191,
   "metadata": {},
   "outputs": [
    {
     "data": {
      "text/html": [
       "<div>\n",
       "<style scoped>\n",
       "    .dataframe tbody tr th:only-of-type {\n",
       "        vertical-align: middle;\n",
       "    }\n",
       "\n",
       "    .dataframe tbody tr th {\n",
       "        vertical-align: top;\n",
       "    }\n",
       "\n",
       "    .dataframe thead th {\n",
       "        text-align: right;\n",
       "    }\n",
       "</style>\n",
       "<table border=\"1\" class=\"dataframe\">\n",
       "  <thead>\n",
       "    <tr style=\"text-align: right;\">\n",
       "      <th></th>\n",
       "      <th>0.5</th>\n",
       "      <th>0.75</th>\n",
       "      <th>0.9</th>\n",
       "      <th>1</th>\n",
       "    </tr>\n",
       "  </thead>\n",
       "  <tbody>\n",
       "    <tr>\n",
       "      <th>5</th>\n",
       "      <td>0.872215</td>\n",
       "      <td>0.872863</td>\n",
       "      <td>0.873341</td>\n",
       "      <td>0.872761</td>\n",
       "    </tr>\n",
       "    <tr>\n",
       "      <th>6</th>\n",
       "      <td>0.872283</td>\n",
       "      <td>0.873307</td>\n",
       "      <td>0.873546</td>\n",
       "      <td>0.873443</td>\n",
       "    </tr>\n",
       "    <tr>\n",
       "      <th>7</th>\n",
       "      <td>0.873068</td>\n",
       "      <td>0.873136</td>\n",
       "      <td>0.873716</td>\n",
       "      <td>0.873068</td>\n",
       "    </tr>\n",
       "    <tr>\n",
       "      <th>8</th>\n",
       "      <td>0.870782</td>\n",
       "      <td>0.871737</td>\n",
       "      <td>0.872693</td>\n",
       "      <td>0.872658</td>\n",
       "    </tr>\n",
       "  </tbody>\n",
       "</table>\n",
       "</div>"
      ],
      "text/plain": [
       "        0.5      0.75       0.9         1\n",
       "5  0.872215  0.872863  0.873341  0.872761\n",
       "6  0.872283  0.873307  0.873546  0.873443\n",
       "7  0.873068  0.873136  0.873716  0.873068\n",
       "8  0.870782  0.871737  0.872693  0.872658"
      ]
     },
     "execution_count": 191,
     "metadata": {},
     "output_type": "execute_result"
    }
   ],
   "source": [
    "parameter_selection_2"
   ]
  },
  {
   "cell_type": "markdown",
   "metadata": {},
   "source": [
    "#### Result\n",
    "The results do not change much in these areas of the two considered parameters. We chose 0.9 for subsample and and 7 for the maximal depth as this results in the highest accuracy of **0.8737**."
   ]
  },
  {
   "cell_type": "markdown",
   "metadata": {},
   "source": [
    "##### Iterative Optimization Approach\n",
    "After the simultaneous optimization in a two-dimensional space, another, third, parameter (*min_impurity_decrease*) is optimized at the optimum of the first two parameters. (It is possible that the overall optimum of these three parameters is different from this result. The computational costs are significantly lower for the iterative optimization though.) "
   ]
  },
  {
   "cell_type": "code",
   "execution_count": 196,
   "metadata": {},
   "outputs": [],
   "source": [
    "min_impurity_decreases = [0.00005,0.0001,0.0002,0.0005,0.001,0.0015,0.002,0.005,0.01]\n",
    "test_acc = []\n",
    "for min_impurity_decrease in min_impurity_decreases:\n",
    "    X  = df.loc[:,df.columns!=\"income\"]\n",
    "    y  = df[\"income\"].values.ravel() \n",
    "    X_train, X_test, y_train, y_test = train_test_split(X, y, test_size = 0.2, random_state = 1)\n",
    "    model = ensemble.GradientBoostingClassifier(subsample=0.9, max_depth=7, min_impurity_decrease=min_impurity_decrease)\n",
    "    model.fit(X_train, y_train)\n",
    "    accuracy = model.score(X_test,y_test)\n",
    "    test_acc.append(accuracy)"
   ]
  },
  {
   "cell_type": "code",
   "execution_count": 203,
   "metadata": {},
   "outputs": [
    {
     "data": {
      "image/png": "[encoded data removed]",
      "text/plain": [
       "<Figure size 432x288 with 1 Axes>"
      ]
     },
     "metadata": {},
     "output_type": "display_data"
    }
   ],
   "source": [
    "plt.plot(min_impurity_decreases, test_acc, \"r\")\n",
    "plt.ylabel(\"Test accuracy score\")\n",
    "plt.xlabel(\"min_impurity_decreases value\")\n",
    "plt.show()"
   ]
  },
  {
   "cell_type": "markdown",
   "metadata": {},
   "source": [
    "There does not seem to be a significant change corresponding to the min_impurity_decrease variable. The fluctuations indicate a lack of significance. Nevertheless, we chose 0.005 as it leads to the maximal accuracy."
   ]
  },
  {
   "cell_type": "markdown",
   "metadata": {},
   "source": [
    "#### Final Model and Result"
   ]
  },
  {
   "cell_type": "code",
   "execution_count": 209,
   "metadata": {},
   "outputs": [
    {
     "data": {
      "image/png": "[encoded data removed]",
      "text/plain": [
       "<Figure size 288x288 with 2 Axes>"
      ]
     },
     "metadata": {},
     "output_type": "display_data"
    }
   ],
   "source": [
    "model = ensemble.GradientBoostingClassifier(subsample=0.9, max_depth=7, min_impurity_decrease=0.005)\n",
    "y_pred = model.fit(X_train, y_train).predict(X_test)\n",
    "cm = confusion_matrix(y_test, y_pred)\n",
    "plt.matshow(cm)\n",
    "plt.title('Confusion Matrix Plot',y=1.1)\n",
    "plt.colorbar()\n",
    "plt.xlabel('Predicted')\n",
    "plt.ylabel('Actual')\n",
    "plt.show();"
   ]
  },
  {
   "cell_type": "code",
   "execution_count": 207,
   "metadata": {},
   "outputs": [
    {
     "data": {
      "text/plain": [
       "0.8725560446309756"
      ]
     },
     "execution_count": 207,
     "metadata": {},
     "output_type": "execute_result"
    }
   ],
   "source": [
    "accuracy = model.score(X_test,y_test)\n",
    "accuracy"
   ]
  }
 ],
 "metadata": {
  "kernelspec": {
   "display_name": "Python 3",
   "language": "python",
   "name": "python3"
  },
  "language_info": {
   "codemirror_mode": {
    "name": "ipython",
    "version": 3
   },
   "file_extension": ".py",
   "mimetype": "text/x-python",
   "name": "python",
   "nbconvert_exporter": "python",
   "pygments_lexer": "ipython3",
   "version": "3.7.3"
  }
 },
 "nbformat": 4,
 "nbformat_minor": 2
}
